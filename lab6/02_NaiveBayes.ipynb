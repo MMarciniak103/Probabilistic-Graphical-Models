{
 "cells": [
  {
   "cell_type": "markdown",
   "metadata": {},
   "source": [
    "Przed oddaniem zadania upewnij się, że wszystko działa poprawnie.\n",
    "**Uruchom ponownie kernel** (z paska menu: Kernel$\\rightarrow$Restart) a następnie\n",
    "**wykonaj wszystkie komórki** (z paska menu: Cell$\\rightarrow$Run All).\n",
    "\n",
    "Upewnij się, że wypełniłeś wszystkie pola `TU WPISZ KOD` lub `TU WPISZ ODPOWIEDŹ`, oraz\n",
    "że podałeś swoje imię i nazwisko poniżej:"
   ]
  },
  {
   "cell_type": "code",
   "execution_count": 1,
   "metadata": {},
   "outputs": [],
   "source": [
    "NAME = \"Michal Marciniak\""
   ]
  },
  {
   "cell_type": "markdown",
   "metadata": {},
   "source": [
    "---"
   ]
  },
  {
   "cell_type": "markdown",
   "metadata": {},
   "source": [
    "# Naiwny Bayes"
   ]
  },
  {
   "cell_type": "markdown",
   "metadata": {},
   "source": [
    "Model Naiwnego Bayesa jest jednym z najprostszych modeli grafowych. Zakłada on, że wszystkie obserwowane zmienne $X_1, X_2, \\ldots, X_N$ są warunkowo niezależne względem zmiennej $Y$ oraz, że jedyna zależność istnieje między zmienną $Y$ a zmiennymi $\\mathbf{X}$ (zobacz rysunek). "
   ]
  },
  {
   "cell_type": "code",
   "execution_count": 2,
   "metadata": {},
   "outputs": [
    {
     "data": {
      "image/png": "[encoded data removed]",
      "text/plain": [
       "<Figure size 432x288 with 1 Axes>"
      ]
     },
     "metadata": {},
     "output_type": "display_data"
    }
   ],
   "source": [
    "import networkx as nx\n",
    "    \n",
    "g = nx.DiGraph()\n",
    "g.add_edges_from([(\"Y\", \"X_1\"), (\"Y\", \"X_2\"), (\"Y\", \"$X_{N-1}$\"), (\"Y\", \"$X_N$\")])\n",
    "\n",
    "nx.draw(\n",
    "    g, \n",
    "    with_labels=True, \n",
    "    node_color=[\"gray\" if \"X\" in v else \"white\" for v in g.nodes()],\n",
    "    pos={\"Y\": (0, 0), \"X_1\": (-2, -1), \"X_2\": (-1, -1), \"$X_{N-1}$\": (1, -1), \"$X_N$\": (2, -1)},\n",
    "    edgecolors=\"black\",\n",
    "    node_size=2000,\n",
    ")"
   ]
  },
  {
   "cell_type": "markdown",
   "metadata": {},
   "source": [
    "## Naiwny klasyfikator Bayesa"
   ]
  },
  {
   "cell_type": "markdown",
   "metadata": {},
   "source": [
    "Naszym celem będzie rozwiązać zadanie klasyfikacji, gdzie klasa będzie reprezentowana przez zmienną $Y$ (zakładamy, że istnieje $K$ klas), natomiast atrybuty opisujące dane instancje to $X_1, X_2, \\ldots, X_N$ (wartości te mogą być zarówno ciągłe, jak i dyskretne). \n",
    "\n",
    "Dla konkretnej instancji opisanej $x_1, x_2, \\ldots, x_N$ poszukujemy jej rzeczywistej klasy $\\hat y$, którą uzyskujemy maksymalizując prawdopodobieństwo warunkowe klasy $y_k$ pod warunkiem danych $x_1, x_2, \\ldots, x_N$:\n",
    "\n",
    "$$\\tag{1}\\hat{y} = \\operatorname*{argmax}_{k \\in \\{1, 2, \\ldots, K\\}} \\mathbb{P}(y_k | x_1, x_2, \\ldots, x_N)$$"
   ]
  },
  {
   "cell_type": "markdown",
   "metadata": {},
   "source": [
    "Wykorzystując regułę Bayesa możemy to prawdopodobieństwo rozpisać jako:\n",
    "\n",
    "$$\\mathbb{P}(y_k|x_1, x_2, \\ldots, x_N) = \\frac{\\mathbb{P}(y_k)\\mathbb{P}(x_1, x_2, \\ldots, x_N | y_k)}{\\mathbb{P}(x_1, x_2, \\ldots, x_N)}$$\n",
    "\n",
    "Licznik tego ułamka możemy zapisać jako prawdopodbieństwo łączne:\n",
    "\n",
    "$$\\tag{2}\\mathbb{P}(y_k)\\mathbb{P}(x_1, x_2, \\ldots, x_N | y_k) = \\mathbb{P}(y_k, x_1, x_2, \\ldots, x_N)$$\n",
    "\n",
    "Dodatkowo możemy pominąć mianownik i zapisać, że prawdopodobieństwo $\\text{(1)}$ jest proporcjonalne do $\\text{(2)}$:\n",
    "\n",
    "$$\\mathbb{P}(y_k|x_1, x_2, \\ldots, x_N) \\propto \\mathbb{P}(y_k, x_1, x_2, \\ldots, x_N)$$\n",
    "\n",
    "Korzystając wielokrotnie z reguły łańcuchowej możemy dokonać faktoryzacji prawdopodobieństwa łącznego:\n",
    "\n",
    "$$\\tag{3}\n",
    "\\begin{align}\n",
    "\\mathbb{P}(y_k, x_1, x_2, \\ldots, x_N) & = \\mathbb{P}(x_1, x_2, \\ldots, x_N, y_k)\\\\\n",
    "& = \\mathbb{P}(x_1 | x_2, \\ldots, x_N, y_k)\\mathbb{P}(x_2, \\ldots, x_N, y_k) \\\\\n",
    "& \\ldots \\\\\n",
    "& = \\mathbb{P}(x_1 | x_2, \\ldots, x_N, y_k)\\mathbb{P}(x_2 | \\ldots, x_N, y_k) \\ldots \\mathbb{P}(x_{N-1}|x_N, y_k) \\mathbb{P}(x_N | y_k)\\mathbb{P}(y_k)\n",
    "\\end{align}\n",
    "$$\n",
    "\n",
    "\"Naiwność\" tego modelu zakłada, że zmienne $X_1, \\ldots, X_N$ są niezależne pod warunkiem $Y$, stąd:\n",
    "\n",
    "$$\\tag{4}\\mathbb{P}(x_i | x_{i+1}, x_{i+2}, \\ldots, x_N, y_k) = \\mathbb{P}(x_i|y_k)$$\n",
    "\n",
    "Aplikując $\\text{(4)}$ do $\\text{(3)}$ otrzymujemy:\n",
    "\n",
    "$$\\mathbb{P}(y_k|x_1, x_2, \\ldots, x_N) \\propto \\mathbb{P}(y_k, x_1, x_2, \\ldots, x_N) = \\mathbb{P}(y_k)\\mathbb{P}(x_1|y_k)\\mathbb{P}(x_2|y_k)\\ldots\\mathbb{P}(x_N|y_k) = \\mathbb{P}(y_k)\\prod_{i=1}^{N}\\mathbb{P}(x_i|y_k)$$\n",
    "\n",
    "$$\\mathbb{P}(y_k|x_1, x_2, \\ldots, x_N) \\propto \\mathbb{P}(y_k)\\prod_{i=1}^{N}\\mathbb{P}(x_i|y_k)$$\n",
    "\n",
    "Ostatecznie otrzymujemy:\n",
    "\n",
    "$$\\hat y = \\operatorname*{argmax}_{k \\in \\{1, 2, \\ldots, K\\}} \\mathbb{P}(y_k)\\prod_{i=1}^{N}\\mathbb{P}(x_i|y_k)$$"
   ]
  },
  {
   "cell_type": "markdown",
   "metadata": {},
   "source": [
    "# Zmienne ciągłe\n",
    "Będziemy się tutaj posługiwać zbiorem danych Iris, który posiada tylko ciągłe atrybuty."
   ]
  },
  {
   "cell_type": "code",
   "execution_count": 3,
   "metadata": {},
   "outputs": [
    {
     "name": "stdout",
     "output_type": "stream",
     "text": [
      "Full (150, 4) (150,)\n",
      "Train (120, 4) (120,)\n",
      "Test (30, 4) (30,)\n"
     ]
    }
   ],
   "source": [
    "import pandas as pd\n",
    "from sklearn import datasets as sk_ds\n",
    "from sklearn import model_selection as sk_ms\n",
    "\n",
    "\n",
    "def load_iris_dataset():\n",
    "    X, y = sk_ds.load_iris(return_X_y=True)\n",
    "    X = pd.DataFrame(X, columns=[\n",
    "        \"sepal-length\",\n",
    "        \"sepal-width\",\n",
    "        \"petal-length\",\n",
    "        \"petal-width\",\n",
    "    ])\n",
    "\n",
    "    X_tr, X_te, y_tr, y_te = sk_ms.train_test_split(X, y, train_size=0.8, stratify=y)\n",
    "    print(\"Full\", X.shape, y.shape)\n",
    "    print(\"Train\", X_tr.shape, y_tr.shape)\n",
    "    print(\"Test\", X_te.shape, y_te.shape)\n",
    "\n",
    "    return {\n",
    "        \"train\": {\"X\": X_tr, \"y\": y_tr},\n",
    "        \"test\": {\"X\": X_te, \"y\": y_te},\n",
    "    }\n",
    "\n",
    "\n",
    "iris = load_iris_dataset()"
   ]
  },
  {
   "cell_type": "code",
   "execution_count": 4,
   "metadata": {},
   "outputs": [
    {
     "data": {
      "text/html": [
       "<div>\n",
       "<style scoped>\n",
       "    .dataframe tbody tr th:only-of-type {\n",
       "        vertical-align: middle;\n",
       "    }\n",
       "\n",
       "    .dataframe tbody tr th {\n",
       "        vertical-align: top;\n",
       "    }\n",
       "\n",
       "    .dataframe thead th {\n",
       "        text-align: right;\n",
       "    }\n",
       "</style>\n",
       "<table border=\"1\" class=\"dataframe\">\n",
       "  <thead>\n",
       "    <tr style=\"text-align: right;\">\n",
       "      <th></th>\n",
       "      <th>sepal-length</th>\n",
       "      <th>sepal-width</th>\n",
       "      <th>petal-length</th>\n",
       "      <th>petal-width</th>\n",
       "    </tr>\n",
       "  </thead>\n",
       "  <tbody>\n",
       "    <tr>\n",
       "      <th>85</th>\n",
       "      <td>6.0</td>\n",
       "      <td>3.4</td>\n",
       "      <td>4.5</td>\n",
       "      <td>1.6</td>\n",
       "    </tr>\n",
       "    <tr>\n",
       "      <th>117</th>\n",
       "      <td>7.7</td>\n",
       "      <td>3.8</td>\n",
       "      <td>6.7</td>\n",
       "      <td>2.2</td>\n",
       "    </tr>\n",
       "    <tr>\n",
       "      <th>69</th>\n",
       "      <td>5.6</td>\n",
       "      <td>2.5</td>\n",
       "      <td>3.9</td>\n",
       "      <td>1.1</td>\n",
       "    </tr>\n",
       "    <tr>\n",
       "      <th>42</th>\n",
       "      <td>4.4</td>\n",
       "      <td>3.2</td>\n",
       "      <td>1.3</td>\n",
       "      <td>0.2</td>\n",
       "    </tr>\n",
       "    <tr>\n",
       "      <th>34</th>\n",
       "      <td>4.9</td>\n",
       "      <td>3.1</td>\n",
       "      <td>1.5</td>\n",
       "      <td>0.2</td>\n",
       "    </tr>\n",
       "  </tbody>\n",
       "</table>\n",
       "</div>"
      ],
      "text/plain": [
       "     sepal-length  sepal-width  petal-length  petal-width\n",
       "85            6.0          3.4           4.5          1.6\n",
       "117           7.7          3.8           6.7          2.2\n",
       "69            5.6          2.5           3.9          1.1\n",
       "42            4.4          3.2           1.3          0.2\n",
       "34            4.9          3.1           1.5          0.2"
      ]
     },
     "execution_count": 4,
     "metadata": {},
     "output_type": "execute_result"
    }
   ],
   "source": [
    "iris[\"train\"][\"X\"].head()"
   ]
  },
  {
   "cell_type": "code",
   "execution_count": 5,
   "metadata": {},
   "outputs": [
    {
     "data": {
      "text/plain": [
       "array([1, 2, 1, 0, 0, 1, 0, 2, 0, 1, 0, 2, 2, 2, 2, 1, 0, 2, 0, 0, 0, 2,\n",
       "       1, 1, 1, 0, 2, 0, 2, 0, 0, 0, 1, 2, 1, 1, 0, 1, 2, 1, 1, 2, 2, 2,\n",
       "       0, 1, 2, 0, 0, 1, 0, 1, 2, 2, 2, 0, 2, 1, 1, 0, 1, 1, 1, 1, 2, 0,\n",
       "       0, 2, 2, 1, 1, 0, 1, 2, 2, 1, 1, 1, 2, 1, 0, 0, 2, 0, 2, 0, 2, 1,\n",
       "       1, 0, 2, 1, 0, 2, 0, 0, 0, 1, 2, 2, 2, 0, 2, 2, 1, 0, 1, 1, 1, 0,\n",
       "       2, 2, 0, 1, 0, 2, 0, 1, 2, 0])"
      ]
     },
     "execution_count": 5,
     "metadata": {},
     "output_type": "execute_result"
    }
   ],
   "source": [
    "iris[\"train\"][\"y\"]"
   ]
  },
  {
   "cell_type": "markdown",
   "metadata": {},
   "source": [
    "### Implementacja w bibliotece `scikit-learn`\n",
    "Załóżmy, że wszystkie zmienne tutaj pochodzą z rozkładu normalnego - użyjemy klasy `GaussianNB` (model naiwnego Bayesa z rozkładami normalnymi)"
   ]
  },
  {
   "cell_type": "code",
   "execution_count": 6,
   "metadata": {},
   "outputs": [
    {
     "name": "stdout",
     "output_type": "stream",
     "text": [
      "train\n",
      "              precision    recall  f1-score   support\n",
      "\n",
      "           0       1.00      1.00      1.00        40\n",
      "           1       0.93      0.97      0.95        40\n",
      "           2       0.97      0.93      0.95        40\n",
      "\n",
      "    accuracy                           0.97       120\n",
      "   macro avg       0.97      0.97      0.97       120\n",
      "weighted avg       0.97      0.97      0.97       120\n",
      "\n",
      "test\n",
      "              precision    recall  f1-score   support\n",
      "\n",
      "           0       1.00      1.00      1.00        10\n",
      "           1       0.90      0.90      0.90        10\n",
      "           2       0.90      0.90      0.90        10\n",
      "\n",
      "    accuracy                           0.93        30\n",
      "   macro avg       0.93      0.93      0.93        30\n",
      "weighted avg       0.93      0.93      0.93        30\n",
      "\n"
     ]
    }
   ],
   "source": [
    "from sklearn.naive_bayes import GaussianNB\n",
    "from sklearn import metrics as sk_mtr\n",
    "\n",
    "\n",
    "clf_scikit = GaussianNB()\n",
    "clf_scikit.fit(X=iris[\"train\"][\"X\"], y=iris[\"train\"][\"y\"])\n",
    "\n",
    "for split in (\"train\", \"test\"):\n",
    "    print(split)\n",
    "    print(sk_mtr.classification_report(\n",
    "        y_true=iris[split][\"y\"],\n",
    "        y_pred=clf_scikit.predict(X=iris[split][\"X\"]),\n",
    "    ))"
   ]
  },
  {
   "cell_type": "markdown",
   "metadata": {},
   "source": [
    "### Implementacja w bibliotece `pyro`\n",
    "Poniżej zamieszczono przykładową implementację modelu naiwnego Baysa za pomocą biblioteki Pyro. Nie będziemy wchodzić w szczegóły, ale zachęcamy aby przeanalizować krok po kroku każdą z metod."
   ]
  },
  {
   "cell_type": "code",
   "execution_count": 7,
   "metadata": {},
   "outputs": [],
   "source": [
    "import pyro\n",
    "from pyro import distributions as dist\n",
    "import torch\n",
    "from torch.distributions import constraints\n",
    "\n",
    "pyro.enable_validation(True)\n",
    "\n",
    "\n",
    "from collections import defaultdict\n",
    "import matplotlib.pyplot as plt\n",
    "import pyro\n",
    "import torch\n",
    "from tqdm.auto import tqdm\n",
    "\n",
    "\n",
    "class GaussianNBClassifier:\n",
    "    def __init__(self, num_epochs=500, lr=1e-2):\n",
    "        self._num_epochs = num_epochs\n",
    "        self._lr = lr\n",
    "        \n",
    "        self._num_cls = None\n",
    "        \n",
    "        self._c_logits = None        \n",
    "        self._num_probs = None\n",
    "        \n",
    "    def fit(self, X, y):\n",
    "        pyro.clear_param_store()\n",
    "\n",
    "        svi = pyro.infer.SVI(\n",
    "            model=self._model,\n",
    "            guide=self._guide,\n",
    "            optim=pyro.optim.Adam({'lr': self._lr}),\n",
    "            loss=pyro.infer.Trace_ELBO(),\n",
    "        )\n",
    "\n",
    "        with tqdm(range(self._num_epochs)) as pbar:\n",
    "            for epoch in pbar:\n",
    "                loss = svi.step(X, y)\n",
    "\n",
    "                if epoch % 100 == 0:\n",
    "                    print(f\"Epoch: {epoch} Loss = {loss:.3f}\")\n",
    "\n",
    "    def predict(self, X):\n",
    "        pred = pyro.infer.Predictive(\n",
    "            model=self._model,\n",
    "            guide=self._guide,\n",
    "            num_samples=1,\n",
    "            return_sites=('logP(c|x)',),\n",
    "        )\n",
    "        log_pcx = pred(X)['logP(c|x)'].detach().squeeze(0).squeeze(0)\n",
    "        y_pred = torch.argmax(log_pcx, dim=-1)\n",
    "        return y_pred\n",
    "    \n",
    "    def _model(self, X, y=None):    \n",
    "        if y is not None:  # training mode\n",
    "            self._num_cls = max(y) + 1\n",
    "            \n",
    "            numerical_cols = X.columns.values\n",
    "                    \n",
    "            self._init_c_logits()\n",
    "            self._init_num_params(X, numerical_cols)\n",
    "            self._observe_numerical_features_given_classes(X, y)\n",
    "\n",
    "        self._observe_classes(X, y)\n",
    "        \n",
    "    def _guide(self, X, y=None):\n",
    "        pass  # This is meant to be an empty function\n",
    "    \n",
    "    def _init_c_logits(self):\n",
    "        self._c_logits = pyro.param(\n",
    "            'c_logits',\n",
    "            torch.ones(self._num_cls).div(self._num_cls),\n",
    "            constraint=constraints.simplex,\n",
    "        )\n",
    "        \n",
    "    def _init_num_params(self, X, numerical_cols):\n",
    "        self._num_probs = {\n",
    "            col: {\n",
    "                'mu': pyro.param(f'{col}_mu', torch.zeros(self._num_cls)),\n",
    "                'sigma': pyro.param(f'{col}_sigma', torch.ones(self._num_cls)),\n",
    "            }\n",
    "            for col in numerical_cols\n",
    "        }\n",
    "        \n",
    "    def _observe_numerical_features_given_classes(self, X, y):\n",
    "        for c in range(self._num_cls):\n",
    "            x_c = X[y==c]\n",
    "            with pyro.plate(f'data-numerical-{c}', x_c.shape[0]):\n",
    "                for nc, v in self._num_probs.items():\n",
    "                    pyro.sample(\n",
    "                        f'P(x_{nc}|c={c})', \n",
    "                        dist.Normal(v['mu'][c], v['sigma'][c]),\n",
    "                        obs=torch.tensor(x_c[nc].values),\n",
    "                    )\n",
    "                    \n",
    "    def _get_log_likelihood(self, X):\n",
    "        log_lk = []\n",
    "        \n",
    "        for c in range(self._num_cls):\n",
    "            lps = []\n",
    "            \n",
    "            lps.extend([\n",
    "                dist.Normal(v['mu'][c], v['sigma'][c]).log_prob(torch.tensor(X[nc].values))\n",
    "                for nc, v in self._num_probs.items()\n",
    "            ])\n",
    "\n",
    "            log_lk.append(torch.stack(lps).sum(dim=0))\n",
    "            \n",
    "        return torch.stack(log_lk).t()\n",
    "    \n",
    "    def _observe_classes(self, X, y):\n",
    "        if y is not None:\n",
    "            y = torch.tensor(y)\n",
    "        \n",
    "        log_lk = self._get_log_likelihood(X)\n",
    "\n",
    "        log_pcx = pyro.deterministic('logP(c|x)', self._c_logits.log() + log_lk)\n",
    "        \n",
    "        with pyro.plate('data-pred', X.shape[0]):    \n",
    "            pyro.sample(\n",
    "                'c',\n",
    "                dist.Categorical(logits=log_pcx),\n",
    "                obs=y,\n",
    "            )"
   ]
  },
  {
   "cell_type": "code",
   "execution_count": 8,
   "metadata": {},
   "outputs": [
    {
     "data": {
      "application/vnd.jupyter.widget-view+json": {
       "model_id": "79675300eb8a4adda39c49bc73acd4d4",
       "version_major": 2,
       "version_minor": 0
      },
      "text/plain": [
       "HBox(children=(FloatProgress(value=0.0, max=1000.0), HTML(value='')))"
      ]
     },
     "metadata": {},
     "output_type": "display_data"
    },
    {
     "name": "stdout",
     "output_type": "stream",
     "text": [
      "Epoch: 0 Loss = 4435.834\n",
      "Epoch: 100 Loss = 1522.580\n",
      "Epoch: 200 Loss = 1065.147\n",
      "Epoch: 300 Loss = 834.487\n",
      "Epoch: 400 Loss = 674.464\n",
      "Epoch: 500 Loss = 565.553\n",
      "Epoch: 600 Loss = 518.062\n",
      "Epoch: 700 Loss = 477.424\n",
      "Epoch: 800 Loss = 436.811\n",
      "Epoch: 900 Loss = 386.065\n",
      "\n",
      "train\n",
      "              precision    recall  f1-score   support\n",
      "\n",
      "           0       1.00      1.00      1.00        40\n",
      "           1       0.93      0.97      0.95        40\n",
      "           2       0.97      0.93      0.95        40\n",
      "\n",
      "    accuracy                           0.97       120\n",
      "   macro avg       0.97      0.97      0.97       120\n",
      "weighted avg       0.97      0.97      0.97       120\n",
      "\n",
      "test\n",
      "              precision    recall  f1-score   support\n",
      "\n",
      "           0       1.00      1.00      1.00        10\n",
      "           1       0.90      0.90      0.90        10\n",
      "           2       0.90      0.90      0.90        10\n",
      "\n",
      "    accuracy                           0.93        30\n",
      "   macro avg       0.93      0.93      0.93        30\n",
      "weighted avg       0.93      0.93      0.93        30\n",
      "\n"
     ]
    }
   ],
   "source": [
    "clf_pyro = GaussianNBClassifier(num_epochs=1000)\n",
    "clf_pyro.fit(X=iris[\"train\"][\"X\"], y=iris[\"train\"][\"y\"])\n",
    "\n",
    "\n",
    "for split in (\"train\", \"test\"):\n",
    "    print(split)\n",
    "    print(sk_mtr.classification_report(\n",
    "        y_true=iris[split][\"y\"],\n",
    "        y_pred=clf_pyro.predict(X=iris[split][\"X\"]),\n",
    "    ))"
   ]
  },
  {
   "cell_type": "markdown",
   "metadata": {},
   "source": [
    "### Implementacja w bibliotece `pgmpy`"
   ]
  },
  {
   "cell_type": "markdown",
   "metadata": {},
   "source": [
    "## Zadanie 1 (0.75 pkt)\n",
    "\n",
    "Zaimplementuj funkcję `discretize_data`, która dokona dyskretyzacji (np. `KBinsDiscretizer`) zmiennych ciągłych w zadanym zbiorze danych. Zmienne kategoryczne/dyskretne nie powinny zostać zmienione. "
   ]
  },
  {
   "cell_type": "code",
   "execution_count": 9,
   "metadata": {
    "deletable": false,
    "nbgrader": {
     "cell_type": "code",
     "checksum": "83ca6cd2bf6ae0088a0c7a0a3cc2a742",
     "grade": true,
     "grade_id": "discretize-data",
     "locked": false,
     "points": 0.75,
     "schema_version": 3,
     "solution": true,
     "task": false
    }
   },
   "outputs": [],
   "source": [
    "from copy import deepcopy\n",
    "import numpy as np\n",
    "from sklearn.preprocessing import KBinsDiscretizer\n",
    "\n",
    "\n",
    "def discretize_data(dataset: dict, n_bins: int) -> dict:\n",
    "    _dataset = deepcopy(dataset)\n",
    "    \n",
    "    X_train = _dataset[\"train\"][\"X\"]\n",
    "    X_test = _dataset[\"test\"][\"X\"]\n",
    "    \n",
    "    discrete_cols = X_train.select_dtypes('category').columns.values\n",
    "    continuous_cols = [c for c in X_train.columns if c not in discrete_cols]\n",
    "\n",
    "    # TU WPISZ KOD\n",
    "    discretizator = KBinsDiscretizer(n_bins=n_bins, encode='ordinal', strategy='quantile')\n",
    "    discretized_train = discretizator.fit_transform(X_train[continuous_cols])\n",
    "    discretized_test = discretizator.transform(X_test[continuous_cols])\n",
    "    \n",
    "    _dataset[\"train\"][\"X\"][continuous_cols] = discretized_train\n",
    "    _dataset[\"test\"][\"X\"][continuous_cols] = discretized_test\n",
    "    return _dataset"
   ]
  },
  {
   "cell_type": "markdown",
   "metadata": {},
   "source": [
    "## Zadanie 2 (0.4 pkt)\n",
    "\n",
    "Zaimplementuj funkcję `build_model`, która zbuduje model Naiwnego Bayesa na podstawie obiektu `BayesianModel` (nie wykorzytuj klasy `NaiveBayes` z pgmpy!)."
   ]
  },
  {
   "cell_type": "code",
   "execution_count": 10,
   "metadata": {
    "deletable": false,
    "nbgrader": {
     "cell_type": "code",
     "checksum": "cc3c2d070fca34c96f6a8fee90a1daf8",
     "grade": true,
     "grade_id": "build-model",
     "locked": false,
     "points": 0.4,
     "schema_version": 3,
     "solution": true,
     "task": false
    }
   },
   "outputs": [],
   "source": [
    "from pgmpy.models import BayesianModel\n",
    "\n",
    "\n",
    "\n",
    "def build_model(dataset: dict) -> BayesianModel:\n",
    "    # TU WPISZ KOD\n",
    "    G = BayesianModel()\n",
    "    X = dataset[\"train\"][\"X\"]\n",
    "    \n",
    "    for col_name in X.columns:\n",
    "        G.add_edge(\"target\", col_name)\n",
    "\n",
    "    return G"
   ]
  },
  {
   "cell_type": "markdown",
   "metadata": {},
   "source": [
    "## Zadanie 3 (0.5 pkt)\n",
    "\n",
    "Zaimplementuj funkcję `fit_model`, która dopasuje parametry modelu Naiwnego Bayesa. Użyj dowolnej metody estymacji (np. Maximum Likelihood)"
   ]
  },
  {
   "cell_type": "code",
   "execution_count": 11,
   "metadata": {
    "deletable": false,
    "nbgrader": {
     "cell_type": "code",
     "checksum": "e0d6f2b245d2ef9edbc0a3dec8479578",
     "grade": true,
     "grade_id": "fit-model",
     "locked": false,
     "points": 0.5,
     "schema_version": 3,
     "solution": true,
     "task": false
    }
   },
   "outputs": [],
   "source": [
    "from pgmpy.estimators import MaximumLikelihoodEstimator\n",
    "def fit_model(model: BayesianModel, training_data: dict) -> BayesianModel:\n",
    "    # TU WPISZ KOD\n",
    "    X = training_data['X']\n",
    "    y = training_data['y']\n",
    "   \n",
    "    df = pd.DataFrame(np.column_stack((X.values,y)), columns=[*X.columns,'target'])\n",
    "    model.fit(df)\n",
    "    return model"
   ]
  },
  {
   "cell_type": "markdown",
   "metadata": {},
   "source": [
    "## Zadanie 4 (0.75 pkt)\n",
    "\n",
    "Zaimplementuj funkcję `predict_pgmpy`, która zwróci predykcje modelu Naiwnego Bayesa dla zadanych danych `X`. Użyj dowolnej metody inferencji (np. Variable Elimination)."
   ]
  },
  {
   "cell_type": "code",
   "execution_count": 12,
   "metadata": {
    "deletable": false,
    "nbgrader": {
     "cell_type": "code",
     "checksum": "bf83cd2aa629bf9cff640e1a81b62d7b",
     "grade": true,
     "grade_id": "predict-pgmpy",
     "locked": false,
     "points": 0.75,
     "schema_version": 3,
     "solution": true,
     "task": false
    }
   },
   "outputs": [],
   "source": [
    "def predict_pgmpy(model, X):\n",
    "    y_pred = []\n",
    "    \n",
    "    # TU WPISZ KOD\n",
    "    y_pred = model.predict(X)\n",
    "    return y_pred"
   ]
  },
  {
   "cell_type": "markdown",
   "metadata": {},
   "source": [
    "Wykorzystajmy teraz zaimplementowane funkcje, aby wyuczyć model Naiwnego Bayesa w pgmpy i sprawdźmy jakość działania modelu na zdyskretyzowanych danych. "
   ]
  },
  {
   "cell_type": "code",
   "execution_count": 13,
   "metadata": {},
   "outputs": [
    {
     "name": "stderr",
     "output_type": "stream",
     "text": [
      "\r",
      "  0%|          | 0/67 [00:00<?, ?it/s]"
     ]
    },
    {
     "name": "stdout",
     "output_type": "stream",
     "text": [
      "train\n"
     ]
    },
    {
     "name": "stderr",
     "output_type": "stream",
     "text": [
      "100%|██████████| 67/67 [00:01<00:00, 33.92it/s]\n",
      "100%|██████████| 25/25 [00:00<00:00, 1525.07it/s]\n"
     ]
    },
    {
     "name": "stdout",
     "output_type": "stream",
     "text": [
      "              precision    recall  f1-score   support\n",
      "\n",
      "           0       1.00      1.00      1.00        40\n",
      "           1       0.92      0.88      0.90        40\n",
      "           2       0.88      0.93      0.90        40\n",
      "\n",
      "    accuracy                           0.93       120\n",
      "   macro avg       0.93      0.93      0.93       120\n",
      "weighted avg       0.93      0.93      0.93       120\n",
      "\n",
      "test\n",
      "              precision    recall  f1-score   support\n",
      "\n",
      "           0       1.00      1.00      1.00        10\n",
      "           1       0.90      0.90      0.90        10\n",
      "           2       0.90      0.90      0.90        10\n",
      "\n",
      "    accuracy                           0.93        30\n",
      "   macro avg       0.93      0.93      0.93        30\n",
      "weighted avg       0.93      0.93      0.93        30\n",
      "\n"
     ]
    }
   ],
   "source": [
    "iris_discrete = discretize_data(dataset=iris, n_bins=5)\n",
    "clf_pgmpy = build_model(dataset=iris_discrete)\n",
    "\n",
    "\n",
    "\n",
    "clf_pgmpy = fit_model(model=clf_pgmpy, training_data=iris_discrete[\"train\"])\n",
    "\n",
    "\n",
    "for split in (\"train\", \"test\"):\n",
    "    print(split)\n",
    "    print(sk_mtr.classification_report(\n",
    "        y_true=iris_discrete[split][\"y\"],\n",
    "        y_pred=predict_pgmpy(model=clf_pgmpy, X=iris_discrete[split][\"X\"]),\n",
    "    ))"
   ]
  },
  {
   "cell_type": "markdown",
   "metadata": {},
   "source": [
    "# Zmienne ciągłe i dyskretne\n",
    "Wykorzystaj zbiór CMC, aby sprawdzić wszystkie modele na zbiorze z cechami dyskretnymi i ciągłymi."
   ]
  },
  {
   "cell_type": "code",
   "execution_count": 14,
   "metadata": {},
   "outputs": [],
   "source": [
    "def load_cmc(N=-1):\n",
    "    # Source: https://archive.ics.uci.edu/ml/datasets/Contraceptive+Method+Choice\n",
    "    df = pd.read_csv('data/cmc.data', names=[\n",
    "        'age', # numerical\n",
    "        'w-education', # categorical\n",
    "        'h-education',  # categorical\n",
    "        'num-children',  # numerical\n",
    "        'w-religion',  # binary\n",
    "        'w-working',  # binary\n",
    "        'h-occupation',  # categorical\n",
    "        'sol-index',  # categorical\n",
    "        'media-exposure',  # binary\n",
    "        'contraceptive-method-used',  # class\n",
    "    ])\n",
    "\n",
    "    cat_cols = [\n",
    "        'w-education', # categorical\n",
    "        'h-education',  # categorical\n",
    "        'h-occupation',  # categorical\n",
    "        'sol-index',  # categorical\n",
    "    ]\n",
    "    bin_cols = [\n",
    "        'w-religion',  # binary\n",
    "        'w-working',  # binary\n",
    "        'media-exposure',  # binary\n",
    "    ]\n",
    "\n",
    "    for col in cat_cols:\n",
    "        df[col] = (df[col] - 1).astype('category')\n",
    "\n",
    "    for col in bin_cols:\n",
    "        df[col] = df[col].astype('category')    \n",
    "\n",
    "    if N != -1:\n",
    "        df = df.sample(\n",
    "            n=N,\n",
    "            weights='contraceptive-method-used',\n",
    "            random_state=2020,\n",
    "        )\n",
    "\n",
    "    X = df[df.columns[:-1]]\n",
    "    y = df['contraceptive-method-used'].values - 1\n",
    "\n",
    "    X_tr, X_te, y_tr, y_te = sk_ms.train_test_split(X, y, train_size=0.8, stratify=y)\n",
    "    print('Full', X.shape, y.shape)\n",
    "    print('Train', X_tr.shape, y_tr.shape)\n",
    "    print('Test', X_te.shape, y_te.shape)\n",
    "\n",
    "    return {\n",
    "        'train': {'X': X_tr.reset_index(drop=True), 'y': y_tr},\n",
    "        'test': {'X': X_te.reset_index(drop=True), 'y': y_te},\n",
    "    }"
   ]
  },
  {
   "cell_type": "code",
   "execution_count": 15,
   "metadata": {},
   "outputs": [
    {
     "name": "stdout",
     "output_type": "stream",
     "text": [
      "Full (200, 9) (200,)\n",
      "Train (160, 9) (160,)\n",
      "Test (40, 9) (40,)\n"
     ]
    }
   ],
   "source": [
    "cmc = load_cmc(N=200)"
   ]
  },
  {
   "cell_type": "code",
   "execution_count": 16,
   "metadata": {},
   "outputs": [
    {
     "data": {
      "text/html": [
       "<div>\n",
       "<style scoped>\n",
       "    .dataframe tbody tr th:only-of-type {\n",
       "        vertical-align: middle;\n",
       "    }\n",
       "\n",
       "    .dataframe tbody tr th {\n",
       "        vertical-align: top;\n",
       "    }\n",
       "\n",
       "    .dataframe thead th {\n",
       "        text-align: right;\n",
       "    }\n",
       "</style>\n",
       "<table border=\"1\" class=\"dataframe\">\n",
       "  <thead>\n",
       "    <tr style=\"text-align: right;\">\n",
       "      <th></th>\n",
       "      <th>age</th>\n",
       "      <th>w-education</th>\n",
       "      <th>h-education</th>\n",
       "      <th>num-children</th>\n",
       "      <th>w-religion</th>\n",
       "      <th>w-working</th>\n",
       "      <th>h-occupation</th>\n",
       "      <th>sol-index</th>\n",
       "      <th>media-exposure</th>\n",
       "    </tr>\n",
       "  </thead>\n",
       "  <tbody>\n",
       "    <tr>\n",
       "      <th>0</th>\n",
       "      <td>24</td>\n",
       "      <td>3</td>\n",
       "      <td>3</td>\n",
       "      <td>1</td>\n",
       "      <td>1</td>\n",
       "      <td>1</td>\n",
       "      <td>0</td>\n",
       "      <td>2</td>\n",
       "      <td>0</td>\n",
       "    </tr>\n",
       "    <tr>\n",
       "      <th>1</th>\n",
       "      <td>39</td>\n",
       "      <td>3</td>\n",
       "      <td>3</td>\n",
       "      <td>3</td>\n",
       "      <td>0</td>\n",
       "      <td>1</td>\n",
       "      <td>0</td>\n",
       "      <td>3</td>\n",
       "      <td>0</td>\n",
       "    </tr>\n",
       "    <tr>\n",
       "      <th>2</th>\n",
       "      <td>32</td>\n",
       "      <td>3</td>\n",
       "      <td>3</td>\n",
       "      <td>3</td>\n",
       "      <td>1</td>\n",
       "      <td>1</td>\n",
       "      <td>0</td>\n",
       "      <td>3</td>\n",
       "      <td>0</td>\n",
       "    </tr>\n",
       "    <tr>\n",
       "      <th>3</th>\n",
       "      <td>40</td>\n",
       "      <td>0</td>\n",
       "      <td>1</td>\n",
       "      <td>6</td>\n",
       "      <td>1</td>\n",
       "      <td>1</td>\n",
       "      <td>2</td>\n",
       "      <td>0</td>\n",
       "      <td>1</td>\n",
       "    </tr>\n",
       "    <tr>\n",
       "      <th>4</th>\n",
       "      <td>38</td>\n",
       "      <td>3</td>\n",
       "      <td>3</td>\n",
       "      <td>5</td>\n",
       "      <td>1</td>\n",
       "      <td>1</td>\n",
       "      <td>0</td>\n",
       "      <td>2</td>\n",
       "      <td>0</td>\n",
       "    </tr>\n",
       "  </tbody>\n",
       "</table>\n",
       "</div>"
      ],
      "text/plain": [
       "   age w-education h-education  num-children w-religion w-working  \\\n",
       "0   24           3           3             1          1         1   \n",
       "1   39           3           3             3          0         1   \n",
       "2   32           3           3             3          1         1   \n",
       "3   40           0           1             6          1         1   \n",
       "4   38           3           3             5          1         1   \n",
       "\n",
       "  h-occupation sol-index media-exposure  \n",
       "0            0         2              0  \n",
       "1            0         3              0  \n",
       "2            0         3              0  \n",
       "3            2         0              1  \n",
       "4            0         2              0  "
      ]
     },
     "execution_count": 16,
     "metadata": {},
     "output_type": "execute_result"
    }
   ],
   "source": [
    "cmc[\"train\"][\"X\"].head()"
   ]
  },
  {
   "cell_type": "code",
   "execution_count": 17,
   "metadata": {},
   "outputs": [
    {
     "data": {
      "text/plain": [
       "array([2, 1, 0, 0, 1, 2, 2, 2, 0, 2, 2, 2, 0, 2, 0, 2, 1, 2, 2, 2, 1, 1,\n",
       "       2, 2, 1, 2, 1, 2, 0, 1, 1, 0, 2, 2, 2, 2, 2, 0, 0, 2, 1, 0, 0, 0,\n",
       "       0, 2, 2, 0, 2, 1, 2, 2, 0, 1, 2, 1, 1, 2, 1, 2, 2, 2, 2, 2, 0, 0,\n",
       "       1, 2, 2, 2, 0, 1, 2, 1, 0, 1, 2, 1, 0, 1, 0, 2, 2, 2, 2, 0, 1, 2,\n",
       "       2, 2, 2, 2, 0, 2, 0, 1, 2, 1, 2, 2, 2, 0, 2, 0, 2, 2, 0, 2, 0, 2,\n",
       "       2, 0, 2, 0, 0, 0, 0, 0, 2, 1, 0, 2, 2, 1, 0, 0, 2, 0, 2, 1, 2, 2,\n",
       "       2, 2, 2, 2, 0, 2, 2, 1, 1, 2, 2, 2, 2, 0, 1, 2, 2, 2, 2, 0, 1, 2,\n",
       "       1, 1, 0, 1, 1, 2])"
      ]
     },
     "execution_count": 17,
     "metadata": {},
     "output_type": "execute_result"
    }
   ],
   "source": [
    "cmc[\"train\"][\"y\"]"
   ]
  },
  {
   "cell_type": "markdown",
   "metadata": {},
   "source": [
    "### Implementacja w `pyro`\n",
    "Poprzednio użyta implementacja Naiwnego Bayesa w bibliotece Pyro nie obsługuje zmiennych dyskretnych. Poniżej zamieszczamy implementację obsługująca oba typy zmiennych. Zachęcamy do dokładniejszej analizy kodu."
   ]
  },
  {
   "cell_type": "code",
   "execution_count": 18,
   "metadata": {},
   "outputs": [],
   "source": [
    "class FullNBClassifier(GaussianNBClassifier):\n",
    "    def __init__(self, num_epochs=500, lr=1e-2):\n",
    "        super().__init__(num_epochs, lr)\n",
    "        self._cat_probs = None\n",
    "        \n",
    "    # fit() from base class\n",
    "    \n",
    "    # predict() from base class\n",
    "    \n",
    "    def _model(self, X, y=None):  # Override  \n",
    "        if y is not None:  # training mode\n",
    "            self._num_cls = max(y) + 1\n",
    "            \n",
    "            categorical_cols = X.select_dtypes('category').columns.values  # Changed\n",
    "            numerical_cols = [c for c in X.columns if c not in categorical_cols]  # Changed\n",
    "                    \n",
    "            self._init_c_logits()\n",
    "            self._init_num_params(X, numerical_cols)\n",
    "            self._init_cat_params(X, categorical_cols)  # Added \n",
    "            \n",
    "            self._observe_numerical_features_given_classes(X, y)\n",
    "            self._observe_categorical_features_given_classes(X, y)  # Added\n",
    "\n",
    "        self._observe_classes(X, y)\n",
    "        \n",
    "    # _guide() from base class\n",
    "    \n",
    "    # _init_c_logits() from base class\n",
    "        \n",
    "    # _init_num_params() from base class\n",
    "        \n",
    "    def _init_cat_params(self, X, categorical_cols):  # Add\n",
    "        self._cat_probs = {\n",
    "            col: pyro.param(\n",
    "                f'{col}_probs', \n",
    "                torch.ones([self._num_cls, len(X[col].cat.categories)]),\n",
    "                constraint=constraints.positive\n",
    "            )\n",
    "            for col in categorical_cols\n",
    "        }\n",
    "        \n",
    "    # _observe_numerical_features_given_classes from base class\n",
    "    \n",
    "    def _observe_categorical_features_given_classes(self, X, y):  # Add\n",
    "        for c in range(self._num_cls):\n",
    "            x_c = X[y==c]\n",
    "            with pyro.plate(f'data-categorical-{c}', x_c.shape[0]):\n",
    "                for cc, v in self._cat_probs.items():\n",
    "                    pyro.sample(\n",
    "                        f'P(x_{cc}|c={c})',\n",
    "                        dist.Categorical(logits=v[c]),\n",
    "                        obs=torch.tensor(x_c[cc].values)\n",
    "                    )\n",
    "                    \n",
    "    def _get_log_likelihood(self, X):  # Override\n",
    "        log_lk = []\n",
    "\n",
    "        for c in range(self._num_cls):\n",
    "            lps = []\n",
    "\n",
    "            lps.extend([\n",
    "                dist.Normal(v['mu'][c], v['sigma'][c]).log_prob(torch.tensor(X[nc].values))\n",
    "                for nc, v in self._num_probs.items()\n",
    "            ])\n",
    "            \n",
    "            # Added\n",
    "            lps.extend([\n",
    "                dist.Categorical(logits=v[c]).log_prob(torch.tensor(X[cc].values))\n",
    "                for cc, v in self._cat_probs.items()\n",
    "            ])\n",
    "            # End Added\n",
    "\n",
    "            log_lk.append(torch.stack(lps).sum(dim=0))\n",
    "\n",
    "        return torch.stack(log_lk).t()\n",
    "    \n",
    "    # _observe_classes() from base class"
   ]
  },
  {
   "cell_type": "markdown",
   "metadata": {},
   "source": [
    "## Zadanie 5 (0.2 + 0.2 + 0.2 pkt)\n",
    "\n",
    "Porównaj jakość działania różnych implementacji Naiwnego Bayesa (`scikit`, `pyro` oraz `pgmpy`)"
   ]
  },
  {
   "cell_type": "code",
   "execution_count": 19,
   "metadata": {},
   "outputs": [],
   "source": [
    "from sklearn.metrics import confusion_matrix\n",
    "import seaborn as sns\n",
    "sns.set()"
   ]
  },
  {
   "cell_type": "code",
   "execution_count": 20,
   "metadata": {},
   "outputs": [],
   "source": [
    "def show_results(model, cmc):\n",
    "    fig, ax = plt.subplots(1,2,figsize=(10,4))\n",
    "\n",
    "    for i, split in enumerate([\"train\", \"test\"]):\n",
    "        print(split)\n",
    "        y_true = cmc[split][\"y\"]\n",
    "        y_pred = model.predict(cmc[split][\"X\"])\n",
    "        print(sk_mtr.classification_report(\n",
    "            y_true=y_true,\n",
    "            y_pred=y_pred,\n",
    "        ))\n",
    "        cm  = confusion_matrix(y_pred=y_pred, y_true=y_true)\n",
    "        sns.heatmap(cm, annot=True, ax=ax[i],cmap='coolwarm')\n",
    "        ax[i].set_title(split, fontsize=20)\n",
    "    plt.show()\n",
    "    "
   ]
  },
  {
   "cell_type": "code",
   "execution_count": 21,
   "metadata": {},
   "outputs": [],
   "source": [
    "numerical = ['age', 'num-children']"
   ]
  },
  {
   "cell_type": "code",
   "execution_count": 22,
   "metadata": {},
   "outputs": [],
   "source": [
    "def get_numerical_data(cmc : dict, numerical: list):\n",
    "    cmc_c = deepcopy(cmc)\n",
    "    X_train = cmc_c['train']['X']\n",
    "    X_test  = cmc_c['test']['X']\n",
    "\n",
    "    X_test = X_test[numerical]\n",
    "    X_train = X_train[numerical]\n",
    "\n",
    "    cmc_c['train']['X'] = X_train\n",
    "    cmc_c['test']['X'] = X_test\n",
    "\n",
    "    return cmc_c\n"
   ]
  },
  {
   "cell_type": "markdown",
   "metadata": {},
   "source": [
    "# Scikit Gaussian NB"
   ]
  },
  {
   "cell_type": "code",
   "execution_count": 23,
   "metadata": {
    "deletable": false,
    "nbgrader": {
     "cell_type": "code",
     "checksum": "019d0ab2583cabc885267a475ebde88e",
     "grade": true,
     "grade_id": "cmc-scikit",
     "locked": false,
     "points": 0.2,
     "schema_version": 3,
     "solution": true,
     "task": false
    },
    "scrolled": false
   },
   "outputs": [
    {
     "name": "stdout",
     "output_type": "stream",
     "text": [
      "train\n",
      "              precision    recall  f1-score   support\n",
      "\n",
      "           0       0.50      0.12      0.19        42\n",
      "           1       0.40      0.11      0.18        35\n",
      "           2       0.54      0.90      0.67        83\n",
      "\n",
      "    accuracy                           0.53       160\n",
      "   macro avg       0.48      0.38      0.35       160\n",
      "weighted avg       0.50      0.53      0.44       160\n",
      "\n",
      "test\n",
      "              precision    recall  f1-score   support\n",
      "\n",
      "           0       1.00      0.09      0.17        11\n",
      "           1       0.00      0.00      0.00         8\n",
      "           2       0.55      0.86      0.67        21\n",
      "\n",
      "    accuracy                           0.48        40\n",
      "   macro avg       0.52      0.32      0.28        40\n",
      "weighted avg       0.56      0.47      0.40        40\n",
      "\n"
     ]
    },
    {
     "data": {
      "image/png": "[encoded data removed]",
      "text/plain": [
       "<Figure size 720x288 with 4 Axes>"
      ]
     },
     "metadata": {},
     "output_type": "display_data"
    }
   ],
   "source": [
    "# Scikit tylko dane ciagle\n",
    "\n",
    "numerical_cmc = get_numerical_data(cmc, numerical)\n",
    "clf_scikit = GaussianNB().fit(numerical_cmc[\"train\"][\"X\"], numerical_cmc[\"train\"][\"y\"])\n",
    "show_results(clf_scikit, numerical_cmc)"
   ]
  },
  {
   "cell_type": "code",
   "execution_count": 24,
   "metadata": {},
   "outputs": [
    {
     "name": "stdout",
     "output_type": "stream",
     "text": [
      "train\n",
      "              precision    recall  f1-score   support\n",
      "\n",
      "           0       0.64      0.17      0.26        42\n",
      "           1       0.23      0.97      0.37        35\n",
      "           2       1.00      0.01      0.02        83\n",
      "\n",
      "    accuracy                           0.26       160\n",
      "   macro avg       0.62      0.38      0.22       160\n",
      "weighted avg       0.74      0.26      0.16       160\n",
      "\n",
      "test\n",
      "              precision    recall  f1-score   support\n",
      "\n",
      "           0       0.50      0.27      0.35        11\n",
      "           1       0.24      1.00      0.39         8\n",
      "           2       1.00      0.05      0.09        21\n",
      "\n",
      "    accuracy                           0.30        40\n",
      "   macro avg       0.58      0.44      0.28        40\n",
      "weighted avg       0.71      0.30      0.22        40\n",
      "\n"
     ]
    },
    {
     "data": {
      "image/png": "[encoded data removed]",
      "text/plain": [
       "<Figure size 720x288 with 4 Axes>"
      ]
     },
     "metadata": {},
     "output_type": "display_data"
    }
   ],
   "source": [
    "# Scikit wszystkei dane\n",
    "\n",
    "clf_scikit = GaussianNB().fit(cmc[\"train\"][\"X\"], cmc[\"train\"][\"y\"])\n",
    "show_results(clf_scikit, cmc)"
   ]
  },
  {
   "cell_type": "markdown",
   "metadata": {},
   "source": [
    "Zwykły Gaussian Naive Bayes od scikit learn poradził sobie dosyć słabo. Jednakże warto zwrócić uwagę, na różnice pomiędzy sytuacją gdy stosujemy tylko dane ciągłe a zastosowaniem całego zbioru (F1 weighted average 0.4 vs 0.22 na zbiorze testowym). Jednakże zmiennych ciągłych jest tylko 2, co dosyć zuboża nasz zbiór."
   ]
  },
  {
   "cell_type": "markdown",
   "metadata": {},
   "source": [
    "# Scikit NB Categorical"
   ]
  },
  {
   "cell_type": "code",
   "execution_count": 25,
   "metadata": {},
   "outputs": [
    {
     "name": "stdout",
     "output_type": "stream",
     "text": [
      "train\n",
      "              precision    recall  f1-score   support\n",
      "\n",
      "           0       0.61      0.52      0.56        42\n",
      "           1       0.60      0.51      0.55        35\n",
      "           2       0.63      0.71      0.67        83\n",
      "\n",
      "    accuracy                           0.62       160\n",
      "   macro avg       0.61      0.58      0.59       160\n",
      "weighted avg       0.62      0.62      0.62       160\n",
      "\n",
      "test\n",
      "              precision    recall  f1-score   support\n",
      "\n",
      "           0       0.78      0.64      0.70        11\n",
      "           1       0.40      0.25      0.31         8\n",
      "           2       0.62      0.76      0.68        21\n",
      "\n",
      "    accuracy                           0.62        40\n",
      "   macro avg       0.60      0.55      0.56        40\n",
      "weighted avg       0.62      0.62      0.61        40\n",
      "\n"
     ]
    },
    {
     "data": {
      "image/png": "[encoded data removed]",
      "text/plain": [
       "<Figure size 720x288 with 4 Axes>"
      ]
     },
     "metadata": {},
     "output_type": "display_data"
    }
   ],
   "source": [
    "from sklearn.naive_bayes import CategoricalNB\n",
    "\n",
    "# z dyskretyzacja\n",
    "\n",
    "cmc_disc = discretize_data(dataset=cmc, n_bins=5)\n",
    "clf_scikit = CategoricalNB().fit(cmc_disc[\"train\"][\"X\"], cmc_disc[\"train\"][\"y\"])\n",
    "show_results(clf_scikit, cmc_disc)"
   ]
  },
  {
   "cell_type": "markdown",
   "metadata": {},
   "source": [
    "Stosując wersję działająca na danych kategorycznych (po uprzednim zdyskretyzowaniu danych ciągłych) udaje się osiągnąć wynik f-1 weighted average na zbiorze testowym o wartości 0.61"
   ]
  },
  {
   "cell_type": "code",
   "execution_count": 26,
   "metadata": {
    "deletable": false,
    "nbgrader": {
     "cell_type": "code",
     "checksum": "3b41d15e0077afcae143499186f7d675",
     "grade": true,
     "grade_id": "cmc-pyro",
     "locked": false,
     "points": 0.2,
     "schema_version": 3,
     "solution": true,
     "task": false
    }
   },
   "outputs": [
    {
     "data": {
      "application/vnd.jupyter.widget-view+json": {
       "model_id": "70210c6cde174838a1ccd5f759657276",
       "version_major": 2,
       "version_minor": 0
      },
      "text/plain": [
       "HBox(children=(FloatProgress(value=0.0, max=1000.0), HTML(value='')))"
      ]
     },
     "metadata": {},
     "output_type": "display_data"
    },
    {
     "name": "stdout",
     "output_type": "stream",
     "text": [
      "Epoch: 0 Loss = 88602.280\n",
      "Epoch: 100 Loss = 30105.993\n",
      "Epoch: 200 Loss = 19913.274\n",
      "Epoch: 300 Loss = 15312.037\n",
      "Epoch: 400 Loss = 12619.526\n",
      "Epoch: 500 Loss = 10829.333\n",
      "Epoch: 600 Loss = 9542.866\n",
      "Epoch: 700 Loss = 8568.433\n",
      "Epoch: 800 Loss = 7801.686\n",
      "Epoch: 900 Loss = 7180.706\n",
      "\n",
      "train\n",
      "              precision    recall  f1-score   support\n",
      "\n",
      "           0       0.59      0.38      0.46        42\n",
      "           1       0.49      0.49      0.49        35\n",
      "           2       0.63      0.75      0.69        83\n",
      "\n",
      "    accuracy                           0.59       160\n",
      "   macro avg       0.57      0.54      0.54       160\n",
      "weighted avg       0.59      0.59      0.58       160\n",
      "\n",
      "test\n",
      "              precision    recall  f1-score   support\n",
      "\n",
      "           0       0.60      0.55      0.57        11\n",
      "           1       0.29      0.25      0.27         8\n",
      "           2       0.61      0.67      0.64        21\n",
      "\n",
      "    accuracy                           0.55        40\n",
      "   macro avg       0.50      0.49      0.49        40\n",
      "weighted avg       0.54      0.55      0.54        40\n",
      "\n"
     ]
    },
    {
     "data": {
      "image/png": "[encoded data removed]",
      "text/plain": [
       "<Figure size 720x288 with 4 Axes>"
      ]
     },
     "metadata": {},
     "output_type": "display_data"
    }
   ],
   "source": [
    "# Pyro\n",
    "# TU WPISZ KOD\n",
    "clf_pyro = FullNBClassifier(num_epochs=1000)\n",
    "clf_pyro.fit(cmc[\"train\"][\"X\"], cmc[\"train\"][\"y\"])\n",
    "\n",
    "show_results(clf_pyro, cmc)"
   ]
  },
  {
   "cell_type": "markdown",
   "metadata": {},
   "source": [
    "Model z pyro działający na wszystkich kolumnach osiągnął wynik 0.54 dla zbioru testowego. "
   ]
  },
  {
   "cell_type": "code",
   "execution_count": 27,
   "metadata": {
    "deletable": false,
    "nbgrader": {
     "cell_type": "code",
     "checksum": "bd4fdb119913e9e8e594aa5c45300144",
     "grade": true,
     "grade_id": "cmc-pgmpy",
     "locked": false,
     "points": 0.2,
     "schema_version": 3,
     "solution": true,
     "task": false
    }
   },
   "outputs": [
    {
     "name": "stderr",
     "output_type": "stream",
     "text": [
      " 21%|██▏       | 32/150 [00:00<00:00, 235.43it/s]"
     ]
    },
    {
     "name": "stdout",
     "output_type": "stream",
     "text": [
      "train\n"
     ]
    },
    {
     "name": "stderr",
     "output_type": "stream",
     "text": [
      "100%|██████████| 150/150 [00:00<00:00, 476.99it/s]\n",
      "  0%|          | 0/38 [00:00<?, ?it/s]"
     ]
    },
    {
     "name": "stdout",
     "output_type": "stream",
     "text": [
      "              precision    recall  f1-score   support\n",
      "\n",
      "           0       0.58      0.52      0.55        42\n",
      "           1       0.54      0.60      0.57        35\n",
      "           2       0.63      0.63      0.63        83\n",
      "\n",
      "    accuracy                           0.59       160\n",
      "   macro avg       0.58      0.58      0.58       160\n",
      "weighted avg       0.59      0.59      0.59       160\n",
      "\n",
      "test\n"
     ]
    },
    {
     "name": "stderr",
     "output_type": "stream",
     "text": [
      "100%|██████████| 38/38 [00:00<00:00, 678.19it/s]\n"
     ]
    },
    {
     "name": "stdout",
     "output_type": "stream",
     "text": [
      "              precision    recall  f1-score   support\n",
      "\n",
      "           0       0.78      0.64      0.70        11\n",
      "           1       0.43      0.38      0.40         8\n",
      "           2       0.62      0.71      0.67        21\n",
      "\n",
      "    accuracy                           0.62        40\n",
      "   macro avg       0.61      0.58      0.59        40\n",
      "weighted avg       0.63      0.62      0.62        40\n",
      "\n"
     ]
    },
    {
     "data": {
      "image/png": "[encoded data removed]",
      "text/plain": [
       "<Figure size 720x288 with 4 Axes>"
      ]
     },
     "metadata": {},
     "output_type": "display_data"
    }
   ],
   "source": [
    "# Pgmpy\n",
    "# TU WPISZ KOD\n",
    "\n",
    "cmc_disc = discretize_data(dataset=cmc, n_bins=5)\n",
    "clf_pgmpy = build_model(dataset=cmc_disc)\n",
    "clf_pgmpy = fit_model(model=clf_pgmpy, training_data=cmc_disc[\"train\"])\n",
    "   \n",
    "show_results(clf_pgmpy, cmc_disc)"
   ]
  },
  {
   "cell_type": "markdown",
   "metadata": {},
   "source": [
    "Model Pgmpy działający na danych zdyskretyzowanych osiąga przyzwoite wyniki względem pozostałych metod - 0.62"
   ]
  }
 ],
 "metadata": {
  "kernelspec": {
   "display_name": "Python 3",
   "language": "python",
   "name": "python3"
  },
  "language_info": {
   "codemirror_mode": {
    "name": "ipython",
    "version": 3
   },
   "file_extension": ".py",
   "mimetype": "text/x-python",
   "name": "python",
   "nbconvert_exporter": "python",
   "pygments_lexer": "ipython3",
   "version": "3.8.5"
  }
 },
 "nbformat": 4,
 "nbformat_minor": 4
}
